{
 "cells": [
  {
   "cell_type": "code",
   "execution_count": 2,
   "metadata": {
    "collapsed": true
   },
   "outputs": [],
   "source": [
    "import tensorflow as tf\n",
    "from keras import layers\n",
    "from keras.layers import Dense, Attention, BatchNormalization, Input, Conv2D, Permute\n"
   ]
  },
  {
   "cell_type": "code",
   "execution_count": 3,
   "metadata": {},
   "outputs": [],
   "source": [
    "class AttentionBlock(layers.Layer):\n",
    "    def __init__(self, units, **kwargs):\n",
    "        super().__init__(**kwargs)\n",
    "        self.units = units\n",
    "        self.b_norm = layers.BatchNormalization()\n",
    "        self.query = layers.Dense(units, kernel_initializer=tf.keras.initializers.RandomUniform())\n",
    "        self.key = layers.Dense(units, kernel_initializer=tf.keras.initializers.RandomUniform())\n",
    "        self.value = layers.Dense(units, kernel_initializer=tf.keras.initializers.RandomUniform())\n",
    "        self.output_layer = layers.Dense(units, kernel_initializer=tf.keras.initializers.RandomUniform())\n",
    "\n",
    "    def call(self, inputs):\n",
    "        inputs = self.b_norm(inputs)\n",
    "        q = self.query(inputs)\n",
    "        k = self.key(inputs)\n",
    "        v = self.value(inputs)\n",
    "\n",
    "        batch, head, length, dim = k.shape\n",
    "        product = tf.einsum(\"b h i d, b h j d -> b h i j\", q, k)\n",
    "\n",
    "        scale_product = product*dim**(-0.5)\n",
    "        attention = tf.keras.activations.softmax(scale_product)\n",
    "        output = tf.einsum('b h i j, b h j d -> b h i d', attention, v)\n",
    "        print(output.shape)\n",
    "        output = self.output_layer(output)\n",
    "        print(output.shape)\n",
    "        print(inputs.shape)\n",
    "        return inputs + output\n"
   ]
  },
  {
   "cell_type": "code",
   "execution_count": 4,
   "metadata": {},
   "outputs": [
    {
     "name": "stdout",
     "output_type": "stream",
     "text": [
      "(None, 128, 128, 16)\n",
      "(None, 128, 128, 16)\n",
      "(None, 128, 128, 16)\n"
     ]
    }
   ],
   "source": [
    "filters = 16\n",
    "input_layer = Input(shape=(128,128,3))\n",
    "conv_layer = Conv2D(strides=1, filters = filters, kernel_size=(3,3), padding='same')(input_layer)\n",
    "attention_layer = AttentionBlock(units=filters)(conv_layer)"
   ]
  }
 ],
 "metadata": {
  "kernelspec": {
   "display_name": "Python 3",
   "language": "python",
   "name": "python3"
  },
  "language_info": {
   "codemirror_mode": {
    "name": "ipython",
    "version": 3
   },
   "file_extension": ".py",
   "mimetype": "text/x-python",
   "name": "python",
   "nbconvert_exporter": "python",
   "pygments_lexer": "ipython3",
   "version": "3.10.4"
  }
 },
 "nbformat": 4,
 "nbformat_minor": 0
}
